{
 "cells": [
  {
   "cell_type": "markdown",
   "metadata": {},
   "source": [
    "#### Import libraries"
   ]
  },
  {
   "cell_type": "code",
   "execution_count": 1,
   "metadata": {
    "collapsed": true
   },
   "outputs": [],
   "source": [
    "import numpy as np\n",
    "import pandas as pd\n",
    "import matplotlib.mlab as mlab\n",
    "import matplotlib.pyplot as plt\n",
    "import datetime"
   ]
  },
  {
   "cell_type": "markdown",
   "metadata": {},
   "source": [
    "#### Load data"
   ]
  },
  {
   "cell_type": "code",
   "execution_count": 2,
   "metadata": {
    "collapsed": true
   },
   "outputs": [],
   "source": [
    "df = pd.read_stata('DS190_Ad2013v1_Distributable/Data/Stata/Ad2013v1.dta')"
   ]
  },
  {
   "cell_type": "code",
   "execution_count": 6,
   "metadata": {
    "collapsed": false
   },
   "outputs": [],
   "source": [
    "# Select relevant columns\n",
    "df_age = pd.DataFrame()\n",
    "df_age['DobBMom'] = df['dobyrmom']\n",
    "df_age['DobChild'] = df['dob']\n",
    "df_age['AgeAtAdopt'] = df['AgeAtAdopt']"
   ]
  },
  {
   "cell_type": "code",
   "execution_count": 7,
   "metadata": {
    "collapsed": false
   },
   "outputs": [
    {
     "data": {
      "text/html": [
       "<div>\n",
       "<table border=\"1\" class=\"dataframe\">\n",
       "  <thead>\n",
       "    <tr style=\"text-align: right;\">\n",
       "      <th></th>\n",
       "      <th>DobBMom</th>\n",
       "      <th>DobChild</th>\n",
       "      <th>AgeAtAdopt</th>\n",
       "    </tr>\n",
       "  </thead>\n",
       "  <tbody>\n",
       "    <tr>\n",
       "      <th>0</th>\n",
       "      <td>1976</td>\n",
       "      <td>2000-10-15</td>\n",
       "      <td>12</td>\n",
       "    </tr>\n",
       "    <tr>\n",
       "      <th>1</th>\n",
       "      <td>1992</td>\n",
       "      <td>2008-09-15</td>\n",
       "      <td>4</td>\n",
       "    </tr>\n",
       "    <tr>\n",
       "      <th>2</th>\n",
       "      <td>1979</td>\n",
       "      <td>1997-01-15</td>\n",
       "      <td>16</td>\n",
       "    </tr>\n",
       "    <tr>\n",
       "      <th>3</th>\n",
       "      <td>1974</td>\n",
       "      <td>1994-03-15</td>\n",
       "      <td>18</td>\n",
       "    </tr>\n",
       "    <tr>\n",
       "      <th>4</th>\n",
       "      <td>1971</td>\n",
       "      <td>1997-04-15</td>\n",
       "      <td>15</td>\n",
       "    </tr>\n",
       "  </tbody>\n",
       "</table>\n",
       "</div>"
      ],
      "text/plain": [
       "   DobBMom   DobChild AgeAtAdopt\n",
       "0     1976 2000-10-15         12\n",
       "1     1992 2008-09-15          4\n",
       "2     1979 1997-01-15         16\n",
       "3     1974 1994-03-15         18\n",
       "4     1971 1997-04-15         15"
      ]
     },
     "execution_count": 7,
     "metadata": {},
     "output_type": "execute_result"
    }
   ],
   "source": [
    "df_age.head()"
   ]
  },
  {
   "cell_type": "code",
   "execution_count": 8,
   "metadata": {
    "collapsed": false
   },
   "outputs": [
    {
     "data": {
      "text/html": [
       "<div>\n",
       "<table border=\"1\" class=\"dataframe\">\n",
       "  <thead>\n",
       "    <tr style=\"text-align: right;\">\n",
       "      <th></th>\n",
       "      <th>AgeAtAdopt</th>\n",
       "      <th>AgeBMom</th>\n",
       "    </tr>\n",
       "  </thead>\n",
       "  <tbody>\n",
       "    <tr>\n",
       "      <th>0</th>\n",
       "      <td>12</td>\n",
       "      <td>24</td>\n",
       "    </tr>\n",
       "    <tr>\n",
       "      <th>1</th>\n",
       "      <td>4</td>\n",
       "      <td>16</td>\n",
       "    </tr>\n",
       "    <tr>\n",
       "      <th>2</th>\n",
       "      <td>16</td>\n",
       "      <td>18</td>\n",
       "    </tr>\n",
       "    <tr>\n",
       "      <th>3</th>\n",
       "      <td>18</td>\n",
       "      <td>20</td>\n",
       "    </tr>\n",
       "    <tr>\n",
       "      <th>4</th>\n",
       "      <td>15</td>\n",
       "      <td>26</td>\n",
       "    </tr>\n",
       "  </tbody>\n",
       "</table>\n",
       "</div>"
      ],
      "text/plain": [
       "  AgeAtAdopt  AgeBMom\n",
       "0         12       24\n",
       "1          4       16\n",
       "2         16       18\n",
       "3         18       20\n",
       "4         15       26"
      ]
     },
     "execution_count": 8,
     "metadata": {},
     "output_type": "execute_result"
    }
   ],
   "source": [
    "# Calculate age of birth mother at birth\n",
    "df_age['AgeBMom']= df_age['DobChild'].dt.year-df_age['DobBMom']\n",
    "df_age.drop(['DobBMom', 'DobChild'], axis=1, inplace=True)\n",
    "df_age.head()"
   ]
  },
  {
   "cell_type": "markdown",
   "metadata": {},
   "source": [
    "#### Count statistics"
   ]
  },
  {
   "cell_type": "code",
   "execution_count": 9,
   "metadata": {
    "collapsed": false
   },
   "outputs": [
    {
     "data": {
      "text/plain": [
       "NaN     0.031971\n",
       " 0      0.000079\n",
       " 2      0.000040\n",
       " 3      0.000079\n",
       " 4      0.000020\n",
       " 5      0.000040\n",
       " 6      0.000059\n",
       " 7      0.000040\n",
       " 8      0.000040\n",
       " 9      0.000059\n",
       " 10     0.000119\n",
       " 11     0.000099\n",
       " 12     0.000178\n",
       " 13     0.000474\n",
       " 14     0.002845\n",
       " 15     0.008694\n",
       " 16     0.017132\n",
       " 17     0.030094\n",
       " 18     0.044953\n",
       " 19     0.064120\n",
       " 20     0.075719\n",
       " 21     0.072222\n",
       " 22     0.072913\n",
       " 23     0.069416\n",
       " 24     0.064338\n",
       " 25     0.056513\n",
       " 26     0.052185\n",
       " 27     0.046455\n",
       " 28     0.042385\n",
       " 29     0.036457\n",
       "          ...   \n",
       " 53     0.000257\n",
       " 54     0.000375\n",
       " 55     0.000158\n",
       " 56     0.000158\n",
       " 57     0.000296\n",
       " 58     0.000099\n",
       " 59     0.000158\n",
       " 60     0.000020\n",
       " 61     0.000178\n",
       " 62     0.000059\n",
       " 63     0.000099\n",
       " 64     0.000059\n",
       " 65     0.000020\n",
       " 67     0.000079\n",
       " 68     0.000059\n",
       " 70     0.000020\n",
       " 71     0.000040\n",
       " 1      0.000040\n",
       " 79     0.000059\n",
       " 87     0.000020\n",
       " 95     0.000020\n",
       " 96     0.000040\n",
       " 98     0.000020\n",
       " 102    0.000020\n",
       " 111    0.000020\n",
       " 112    0.000059\n",
       " 113    0.000020\n",
       "-4      0.000020\n",
       "-3      0.000040\n",
       "-1      0.000040\n",
       "Name: AgeBMom, dtype: float64"
      ]
     },
     "execution_count": 9,
     "metadata": {},
     "output_type": "execute_result"
    }
   ],
   "source": [
    "# Birth mom age\n",
    "df_age['AgeBMom'].value_counts(sort=False, dropna=False, normalize=True)"
   ]
  },
  {
   "cell_type": "code",
   "execution_count": 10,
   "metadata": {
    "collapsed": false
   },
   "outputs": [
    {
     "name": "stdout",
     "output_type": "stream",
     "text": [
      "  Age        Percent\n",
      "(0, 11]       0.063231\n",
      "(11, 15]      1.219175\n",
      "(15, 20]     23.201865\n",
      "(20, 25]     33.540152\n",
      "(25, 30]     21.079671\n",
      "(30, 35]     10.705817\n",
      "(35, 40]      4.965618\n",
      "(40, 50]      1.675624\n",
      "(50, 60]      0.245021\n",
      "(60, 70]      0.057303\n",
      "(70, 120]     0.031616\n",
      "dtype: float64\n"
     ]
    }
   ],
   "source": [
    "filter_values = [0, 11, 15, 20,  25, 30, 35, 40, 50, 60, 70, 120]\n",
    "out = pd.cut(df_age['AgeBMom'], bins = filter_values)\n",
    "counts = pd.value_counts(out, sort=False, normalize=True)\n",
    "print(\"  Age        Percent\")\n",
    "print(counts*100)"
   ]
  },
  {
   "cell_type": "code",
   "execution_count": 11,
   "metadata": {
    "collapsed": false
   },
   "outputs": [
    {
     "data": {
      "text/plain": [
       "-1                         0.000040\n",
       "0                          0.025352\n",
       "1                          0.120139\n",
       "2                          0.136579\n",
       "3                          0.114468\n",
       "4                          0.095183\n",
       "5                          0.081904\n",
       "6                          0.069969\n",
       "7                          0.058410\n",
       "8                          0.051118\n",
       "9                          0.044202\n",
       "10                         0.039638\n",
       "11                         0.035508\n",
       "12                         0.029679\n",
       "13                         0.026498\n",
       "14                         0.021400\n",
       "15                         0.017883\n",
       "16                         0.016262\n",
       "17                         0.012962\n",
       "18                         0.001996\n",
       "19                         0.000534\n",
       "20                         0.000217\n",
       "21                         0.000020\n",
       "Missing or Out of Range    0.000040\n",
       "dtype: float64"
      ]
     },
     "execution_count": 11,
     "metadata": {},
     "output_type": "execute_result"
    }
   ],
   "source": [
    "# Child age\n",
    "df_age['AgeAtAdopt'].value_counts(sort=False, dropna=False, normalize=True)"
   ]
  },
  {
   "cell_type": "code",
   "execution_count": 12,
   "metadata": {
    "collapsed": false
   },
   "outputs": [
    {
     "name": "stdout",
     "output_type": "stream",
     "text": [
      "  Age        Percent\n",
      "(0, 2]      25.671831\n",
      "(2, 6]      36.152387\n",
      "(6, 9]      15.373064\n",
      "(9, 14]     15.272289\n",
      "(14, 18]     4.910291\n",
      "(18, 21]     0.077063\n",
      "dtype: float64\n"
     ]
    }
   ],
   "source": [
    "filter_values = [0, 2, 6, 9,  14, 18, 21]\n",
    "out = pd.cut(df_age['AgeAtAdopt'], bins = filter_values)\n",
    "counts = pd.value_counts(out, sort=False, normalize=True)\n",
    "print(\"  Age        Percent\")\n",
    "print(counts*100)"
   ]
  },
  {
   "cell_type": "markdown",
   "metadata": {},
   "source": [
    "#### Select data in the studied range"
   ]
  },
  {
   "cell_type": "code",
   "execution_count": 64,
   "metadata": {
    "collapsed": false
   },
   "outputs": [],
   "source": [
    "df_age_int = pd.DataFrame()\n",
    "df_age_int = df_age[(12 <= df_age['AgeBMom']) & (df_age['AgeBMom'] <= 50) & (0 <= df_age['AgeAtAdopt']) & (df_age['AgeAtAdopt'] <= 21)]\n",
    "df_age_int = df_age_int.reset_index()\n",
    "df_age_int.drop(['index'], axis=1, inplace=True)\n"
   ]
  },
  {
   "cell_type": "code",
   "execution_count": 65,
   "metadata": {
    "collapsed": false
   },
   "outputs": [
    {
     "data": {
      "text/plain": [
       "48778"
      ]
     },
     "execution_count": 65,
     "metadata": {},
     "output_type": "execute_result"
    }
   ],
   "source": [
    "df_age_int['AgeAtAdopt'] = pd.to_numeric(df_age_int['AgeAtAdopt'])\n",
    "len(df_age_int)"
   ]
  },
  {
   "cell_type": "code",
   "execution_count": 60,
   "metadata": {
    "collapsed": false
   },
   "outputs": [
    {
     "data": {
      "text/plain": [
       "<matplotlib.text.Text at 0x7f126f5888d0>"
      ]
     },
     "execution_count": 60,
     "metadata": {},
     "output_type": "execute_result"
    },
    {
     "data": {
      "image/png": "[encoded data removed]",
      "text/plain": [
       "<matplotlib.figure.Figure at 0x7f126fb21790>"
      ]
     },
     "metadata": {},
     "output_type": "display_data"
    }
   ],
   "source": [
    "%matplotlib inline\n",
    "df_age_int.plot(kind='hist', alpha=0.4)\n",
    "plt.xlabel('Age')"
   ]
  },
  {
   "cell_type": "code",
   "execution_count": 18,
   "metadata": {
    "collapsed": false
   },
   "outputs": [],
   "source": []
  },
  {
   "cell_type": "code",
   "execution_count": null,
   "metadata": {
    "collapsed": true
   },
   "outputs": [],
   "source": []
  }
 ],
 "metadata": {
  "kernelspec": {
   "display_name": "Python 2",
   "language": "python",
   "name": "python2"
  },
  "language_info": {
   "codemirror_mode": {
    "name": "ipython",
    "version": 2
   },
   "file_extension": ".py",
   "mimetype": "text/x-python",
   "name": "python",
   "nbconvert_exporter": "python",
   "pygments_lexer": "ipython2",
   "version": "2.7.6"
  }
 },
 "nbformat": 4,
 "nbformat_minor": 0
}
