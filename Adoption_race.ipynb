{
 "cells": [
  {
   "cell_type": "markdown",
   "metadata": {},
   "source": [
    "#### Import libraries"
   ]
  },
  {
   "cell_type": "code",
   "execution_count": 1,
   "metadata": {
    "collapsed": true
   },
   "outputs": [],
   "source": [
    "import numpy as np\n",
    "import pandas as pd\n",
    "import matplotlib.mlab as mlab\n",
    "import matplotlib.pyplot as plt\n",
    "from sklearn.metrics import confusion_matrix"
   ]
  },
  {
   "cell_type": "markdown",
   "metadata": {},
   "source": [
    "#### Load data"
   ]
  },
  {
   "cell_type": "code",
   "execution_count": 2,
   "metadata": {
    "collapsed": true
   },
   "outputs": [],
   "source": [
    "df = pd.read_stata('DS190_Ad2013v1_Distributable/Data/Stata/Ad2013v1.dta')"
   ]
  },
  {
   "cell_type": "code",
   "execution_count": 3,
   "metadata": {
    "collapsed": true
   },
   "outputs": [],
   "source": [
    "# Select relevant columns\n",
    "df_race = pd.DataFrame()\n",
    "df_race['Mom'] = df['MomRace'].astype('category')\n",
    "df_race['Dad'] = df['DadRace'].astype('category')\n",
    "df_race['Child'] = df['ChildRace'].astype('category')"
   ]
  },
  {
   "cell_type": "code",
   "execution_count": 4,
   "metadata": {
    "collapsed": false
   },
   "outputs": [
    {
     "data": {
      "text/html": [
       "<div>\n",
       "<table border=\"1\" class=\"dataframe\">\n",
       "  <thead>\n",
       "    <tr style=\"text-align: right;\">\n",
       "      <th></th>\n",
       "      <th>Mom</th>\n",
       "      <th>Dad</th>\n",
       "      <th>Child</th>\n",
       "    </tr>\n",
       "  </thead>\n",
       "  <tbody>\n",
       "    <tr>\n",
       "      <th>0</th>\n",
       "      <td>Black</td>\n",
       "      <td>Black</td>\n",
       "      <td>Black</td>\n",
       "    </tr>\n",
       "    <tr>\n",
       "      <th>1</th>\n",
       "      <td>White</td>\n",
       "      <td>White</td>\n",
       "      <td>Black</td>\n",
       "    </tr>\n",
       "    <tr>\n",
       "      <th>2</th>\n",
       "      <td>White</td>\n",
       "      <td>White</td>\n",
       "      <td>Black</td>\n",
       "    </tr>\n",
       "    <tr>\n",
       "      <th>3</th>\n",
       "      <td>White</td>\n",
       "      <td>White</td>\n",
       "      <td>White</td>\n",
       "    </tr>\n",
       "    <tr>\n",
       "      <th>4</th>\n",
       "      <td>White</td>\n",
       "      <td>White</td>\n",
       "      <td>White</td>\n",
       "    </tr>\n",
       "  </tbody>\n",
       "</table>\n",
       "</div>"
      ],
      "text/plain": [
       "     Mom    Dad  Child\n",
       "0  Black  Black  Black\n",
       "1  White  White  Black\n",
       "2  White  White  Black\n",
       "3  White  White  White\n",
       "4  White  White  White"
      ]
     },
     "execution_count": 4,
     "metadata": {},
     "output_type": "execute_result"
    }
   ],
   "source": [
    "df_race.head()"
   ]
  },
  {
   "cell_type": "code",
   "execution_count": 5,
   "metadata": {
    "collapsed": false
   },
   "outputs": [
    {
     "data": {
      "text/html": [
       "<div>\n",
       "<table border=\"1\" class=\"dataframe\">\n",
       "  <thead>\n",
       "    <tr style=\"text-align: right;\">\n",
       "      <th></th>\n",
       "      <th>Mom</th>\n",
       "      <th>Dad</th>\n",
       "      <th>Child</th>\n",
       "    </tr>\n",
       "  </thead>\n",
       "  <tbody>\n",
       "    <tr>\n",
       "      <th>99</th>\n",
       "      <td>6.755849</td>\n",
       "      <td>29.607967</td>\n",
       "      <td>2.969886</td>\n",
       "    </tr>\n",
       "    <tr>\n",
       "      <th>AmInd</th>\n",
       "      <td>0.920803</td>\n",
       "      <td>0.592792</td>\n",
       "      <td>1.555090</td>\n",
       "    </tr>\n",
       "    <tr>\n",
       "      <th>Asian</th>\n",
       "      <td>0.620455</td>\n",
       "      <td>0.476209</td>\n",
       "      <td>0.478185</td>\n",
       "    </tr>\n",
       "    <tr>\n",
       "      <th>Black</th>\n",
       "      <td>17.969491</td>\n",
       "      <td>8.775292</td>\n",
       "      <td>21.277268</td>\n",
       "    </tr>\n",
       "    <tr>\n",
       "      <th>HawaiiPI</th>\n",
       "      <td>0.209453</td>\n",
       "      <td>0.162030</td>\n",
       "      <td>0.173886</td>\n",
       "    </tr>\n",
       "    <tr>\n",
       "      <th>Hispanic Origin</th>\n",
       "      <td>12.177917</td>\n",
       "      <td>8.615239</td>\n",
       "      <td>21.133022</td>\n",
       "    </tr>\n",
       "    <tr>\n",
       "      <th>More than One Race</th>\n",
       "      <td>0.766677</td>\n",
       "      <td>0.511777</td>\n",
       "      <td>7.228106</td>\n",
       "    </tr>\n",
       "    <tr>\n",
       "      <th>White</th>\n",
       "      <td>60.579355</td>\n",
       "      <td>51.258694</td>\n",
       "      <td>45.184556</td>\n",
       "    </tr>\n",
       "  </tbody>\n",
       "</table>\n",
       "</div>"
      ],
      "text/plain": [
       "                          Mom        Dad      Child\n",
       "99                   6.755849  29.607967   2.969886\n",
       "AmInd                0.920803   0.592792   1.555090\n",
       "Asian                0.620455   0.476209   0.478185\n",
       "Black               17.969491   8.775292  21.277268\n",
       "HawaiiPI             0.209453   0.162030   0.173886\n",
       "Hispanic Origin     12.177917   8.615239  21.133022\n",
       "More than One Race   0.766677   0.511777   7.228106\n",
       "White               60.579355  51.258694  45.184556"
      ]
     },
     "execution_count": 5,
     "metadata": {},
     "output_type": "execute_result"
    }
   ],
   "source": [
    "df_race.apply(pd.Series.value_counts)/len(df_race)*100"
   ]
  },
  {
   "cell_type": "markdown",
   "metadata": {},
   "source": [
    "#### Select rows with all data available"
   ]
  },
  {
   "cell_type": "code",
   "execution_count": 6,
   "metadata": {
    "collapsed": false
   },
   "outputs": [],
   "source": [
    "df_race_full = df_race[(df_race['Mom'] != 99) & (df_race['Dad'] != 99) & (df_race['Child'] != 99)]"
   ]
  },
  {
   "cell_type": "code",
   "execution_count": 7,
   "metadata": {
    "collapsed": false
   },
   "outputs": [
    {
     "data": {
      "text/html": [
       "<div>\n",
       "<table border=\"1\" class=\"dataframe\">\n",
       "  <thead>\n",
       "    <tr style=\"text-align: right;\">\n",
       "      <th></th>\n",
       "      <th>Mom</th>\n",
       "      <th>Dad</th>\n",
       "      <th>Child</th>\n",
       "    </tr>\n",
       "  </thead>\n",
       "  <tbody>\n",
       "    <tr>\n",
       "      <th>99</th>\n",
       "      <td>0.000000</td>\n",
       "      <td>0.000000</td>\n",
       "      <td>0.000000</td>\n",
       "    </tr>\n",
       "    <tr>\n",
       "      <th>AmInd</th>\n",
       "      <td>0.902983</td>\n",
       "      <td>0.817853</td>\n",
       "      <td>1.632665</td>\n",
       "    </tr>\n",
       "    <tr>\n",
       "      <th>Asian</th>\n",
       "      <td>0.735764</td>\n",
       "      <td>0.681037</td>\n",
       "      <td>0.532060</td>\n",
       "    </tr>\n",
       "    <tr>\n",
       "      <th>Black</th>\n",
       "      <td>11.568514</td>\n",
       "      <td>12.258673</td>\n",
       "      <td>15.317260</td>\n",
       "    </tr>\n",
       "    <tr>\n",
       "      <th>HawaiiPI</th>\n",
       "      <td>0.237147</td>\n",
       "      <td>0.228026</td>\n",
       "      <td>0.197622</td>\n",
       "    </tr>\n",
       "    <tr>\n",
       "      <th>Hispanic Origin</th>\n",
       "      <td>12.027606</td>\n",
       "      <td>12.237390</td>\n",
       "      <td>21.236813</td>\n",
       "    </tr>\n",
       "    <tr>\n",
       "      <th>More than One Race</th>\n",
       "      <td>0.805692</td>\n",
       "      <td>0.766167</td>\n",
       "      <td>7.631267</td>\n",
       "    </tr>\n",
       "    <tr>\n",
       "      <th>White</th>\n",
       "      <td>73.722295</td>\n",
       "      <td>73.010854</td>\n",
       "      <td>53.452312</td>\n",
       "    </tr>\n",
       "  </tbody>\n",
       "</table>\n",
       "</div>"
      ],
      "text/plain": [
       "                          Mom        Dad      Child\n",
       "99                   0.000000   0.000000   0.000000\n",
       "AmInd                0.902983   0.817853   1.632665\n",
       "Asian                0.735764   0.681037   0.532060\n",
       "Black               11.568514  12.258673  15.317260\n",
       "HawaiiPI             0.237147   0.228026   0.197622\n",
       "Hispanic Origin     12.027606  12.237390  21.236813\n",
       "More than One Race   0.805692   0.766167   7.631267\n",
       "White               73.722295  73.010854  53.452312"
      ]
     },
     "execution_count": 7,
     "metadata": {},
     "output_type": "execute_result"
    }
   ],
   "source": [
    "df_race_full.apply(pd.Series.value_counts)/len(df_race_full)*100"
   ]
  },
  {
   "cell_type": "markdown",
   "metadata": {},
   "source": [
    "#### Select rows with interracial couples"
   ]
  },
  {
   "cell_type": "code",
   "execution_count": 10,
   "metadata": {
    "collapsed": false
   },
   "outputs": [
    {
     "data": {
      "text/html": [
       "<div>\n",
       "<table border=\"1\" class=\"dataframe\">\n",
       "  <thead>\n",
       "    <tr style=\"text-align: right;\">\n",
       "      <th></th>\n",
       "      <th>Mom</th>\n",
       "      <th>Dad</th>\n",
       "      <th>Child</th>\n",
       "    </tr>\n",
       "  </thead>\n",
       "  <tbody>\n",
       "    <tr>\n",
       "      <th>White</th>\n",
       "      <td>47.639887</td>\n",
       "      <td>40.325102</td>\n",
       "      <td>33.698031</td>\n",
       "    </tr>\n",
       "    <tr>\n",
       "      <th>Hispanic Origin</th>\n",
       "      <td>25.351672</td>\n",
       "      <td>27.508596</td>\n",
       "      <td>31.603626</td>\n",
       "    </tr>\n",
       "    <tr>\n",
       "      <th>Black</th>\n",
       "      <td>9.878087</td>\n",
       "      <td>16.974054</td>\n",
       "      <td>16.380119</td>\n",
       "    </tr>\n",
       "    <tr>\n",
       "      <th>More than One Race</th>\n",
       "      <td>6.283214</td>\n",
       "      <td>5.876837</td>\n",
       "      <td>12.003751</td>\n",
       "    </tr>\n",
       "    <tr>\n",
       "      <th>AmInd</th>\n",
       "      <td>5.220381</td>\n",
       "      <td>4.345108</td>\n",
       "      <td>4.626446</td>\n",
       "    </tr>\n",
       "    <tr>\n",
       "      <th>Asian</th>\n",
       "      <td>4.157549</td>\n",
       "      <td>3.594873</td>\n",
       "      <td>1.031572</td>\n",
       "    </tr>\n",
       "    <tr>\n",
       "      <th>HawaiiPI</th>\n",
       "      <td>1.469209</td>\n",
       "      <td>1.375430</td>\n",
       "      <td>0.656455</td>\n",
       "    </tr>\n",
       "    <tr>\n",
       "      <th>99</th>\n",
       "      <td>0.000000</td>\n",
       "      <td>0.000000</td>\n",
       "      <td>0.000000</td>\n",
       "    </tr>\n",
       "  </tbody>\n",
       "</table>\n",
       "</div>"
      ],
      "text/plain": [
       "                          Mom        Dad      Child\n",
       "White               47.639887  40.325102  33.698031\n",
       "Hispanic Origin     25.351672  27.508596  31.603626\n",
       "Black                9.878087  16.974054  16.380119\n",
       "More than One Race   6.283214   5.876837  12.003751\n",
       "AmInd                5.220381   4.345108   4.626446\n",
       "Asian                4.157549   3.594873   1.031572\n",
       "HawaiiPI             1.469209   1.375430   0.656455\n",
       "99                   0.000000   0.000000   0.000000"
      ]
     },
     "execution_count": 10,
     "metadata": {},
     "output_type": "execute_result"
    }
   ],
   "source": [
    "df_race_ir = df_race_full[df_race['Mom'] != df_race['Dad']]\n",
    "df_race_ir.head()\n",
    "df_race_ir.apply(pd.Series.value_counts)/len(df_race_ir)*100"
   ]
  },
  {
   "cell_type": "code",
   "execution_count": 11,
   "metadata": {
    "collapsed": true
   },
   "outputs": [],
   "source": [
    "def plot_couple_matrix(cm, title='Couples', cmap=plt.cm.Blues):\n",
    "    plt.figure(figsize=(7,7), dpi=120, facecolor='w', edgecolor='k')\n",
    "    plt.imshow(cm, interpolation='nearest', cmap=cmap)\n",
    "    plt.title(title)\n",
    "    plt.colorbar()\n",
    "    tick_marks = np.arange(len(labels))\n",
    "    plt.xticks(tick_marks, labels, rotation=90)\n",
    "    plt.yticks(tick_marks, labels)\n",
    "    plt.tight_layout()\n",
    "    plt.ylabel('Mom')\n",
    "    plt.xlabel('Dad')"
   ]
  },
  {
   "cell_type": "code",
   "execution_count": 12,
   "metadata": {
    "collapsed": false
   },
   "outputs": [
    {
     "data": {
      "text/plain": [
       "<matplotlib.figure.Figure at 0x7f1edf99d6d0>"
      ]
     },
     "metadata": {},
     "output_type": "display_data"
    },
    {
     "data": {
      "image/png": "[encoded data removed]",
      "text/plain": [
       "<matplotlib.figure.Figure at 0x7f1eae7325d0>"
      ]
     },
     "metadata": {},
     "output_type": "display_data"
    }
   ],
   "source": [
    "%matplotlib inline\n",
    "labels = ['Black', 'White', 'More than One Race', 'AmInd', 'Hispanic Origin', 'Asian', 'HawaiiPI']\n",
    "cm = confusion_matrix(df_race_ir['Mom'], df_race_ir['Dad'], labels)\n",
    "np.set_printoptions(precision=2)\n",
    "#print(cm)\n",
    "plt.figure()\n",
    "plot_couple_matrix(cm)"
   ]
  },
  {
   "cell_type": "code",
   "execution_count": 14,
   "metadata": {
    "collapsed": false
   },
   "outputs": [
    {
     "data": {
      "text/plain": [
       "3199"
      ]
     },
     "execution_count": 14,
     "metadata": {},
     "output_type": "execute_result"
    }
   ],
   "source": [
    "len(df_race_ir)"
   ]
  },
  {
   "cell_type": "code",
   "execution_count": null,
   "metadata": {
    "collapsed": true
   },
   "outputs": [],
   "source": []
  }
 ],
 "metadata": {
  "kernelspec": {
   "display_name": "Python 2",
   "language": "python",
   "name": "python2"
  },
  "language_info": {
   "codemirror_mode": {
    "name": "ipython",
    "version": 2
   },
   "file_extension": ".py",
   "mimetype": "text/x-python",
   "name": "python",
   "nbconvert_exporter": "python",
   "pygments_lexer": "ipython2",
   "version": "2.7.6"
  }
 },
 "nbformat": 4,
 "nbformat_minor": 0
}
